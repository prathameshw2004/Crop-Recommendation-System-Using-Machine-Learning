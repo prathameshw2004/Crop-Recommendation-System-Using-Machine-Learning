{
 "cells": [
  {
   "cell_type": "markdown",
   "id": "139925ee",
   "metadata": {},
   "source": [
    "# Problem Statement"
   ]
  },
  {
   "cell_type": "markdown",
   "id": "fe1905e6",
   "metadata": {},
   "source": [
    "In agriculture, choosing the right crop to grow based on the environmental and soil conditions is a complex decision for farmers. Various factors such as soil nutrient levels, temperature, rainfall, and pH influence crop yields. Many farmers struggle to make data-driven decisions due to the unavailability of proper tools or expert knowledge. Incorrect crop choices can lead to suboptimal yields, financial losses, and soil degradation."
   ]
  },
  {
   "cell_type": "markdown",
   "id": "dbfd3063",
   "metadata": {},
   "source": [
    "# Objective"
   ]
  },
  {
   "cell_type": "raw",
   "id": "573de0d7",
   "metadata": {},
   "source": [
    "The Crop Recommendation System aims to empower farmers by using machine learning and predictive analytics to recommend the most suitable crops based on real-time environmental and soil conditions. By providing data-driven insights, the system helps farmers reduce risks, increase yields, and adopt sustainable agricultural practices, ultimately improving productivity and resource optimization."
   ]
  },
  {
   "cell_type": "markdown",
   "id": "ee32ad32",
   "metadata": {},
   "source": [
    "## Importing Libraries"
   ]
  },
  {
   "cell_type": "code",
   "execution_count": 1,
   "id": "901981c9",
   "metadata": {
    "execution": {
     "iopub.execute_input": "2024-09-12T11:36:42.797105Z",
     "iopub.status.busy": "2024-09-12T11:36:42.796515Z",
     "iopub.status.idle": "2024-09-12T11:36:43.643659Z",
     "shell.execute_reply": "2024-09-12T11:36:43.642919Z"
    },
    "papermill": {
     "duration": 0.858756,
     "end_time": "2024-09-12T11:36:43.645895",
     "exception": false,
     "start_time": "2024-09-12T11:36:42.787139",
     "status": "completed"
    },
    "scrolled": true,
    "tags": []
   },
   "outputs": [
    {
     "name": "stderr",
     "output_type": "stream",
     "text": [
      "C:\\Users\\Prathamesh\\anaconda3\\lib\\site-packages\\pandas\\core\\arrays\\masked.py:60: UserWarning: Pandas requires version '1.3.6' or newer of 'bottleneck' (version '1.3.5' currently installed).\n",
      "  from pandas.core import (\n"
     ]
    }
   ],
   "source": [
    "import pandas as pd\n",
    "import numpy as np\n",
    "import seaborn as sns\n",
    "import matplotlib.pyplot as plt\n",
    "import warnings\n",
    "warnings.filterwarnings('ignore')"
   ]
  },
  {
   "cell_type": "markdown",
   "id": "3a55d28a",
   "metadata": {},
   "source": [
    "## Loading the Dataset"
   ]
  },
  {
   "cell_type": "code",
   "execution_count": 2,
   "id": "fe7887ff",
   "metadata": {
    "execution": {
     "iopub.execute_input": "2024-09-12T11:36:43.678134Z",
     "iopub.status.busy": "2024-09-12T11:36:43.677851Z",
     "iopub.status.idle": "2024-09-12T11:36:43.695518Z",
     "shell.execute_reply": "2024-09-12T11:36:43.694901Z"
    },
    "papermill": {
     "duration": 0.026203,
     "end_time": "2024-09-12T11:36:43.697200",
     "exception": false,
     "start_time": "2024-09-12T11:36:43.670997",
     "status": "completed"
    },
    "tags": []
   },
   "outputs": [],
   "source": [
    "crop = pd.read_csv(\"Crop_recommendation.csv\")"
   ]
  },
  {
   "cell_type": "markdown",
   "id": "9d2ffd36",
   "metadata": {},
   "source": [
    "## Displaying the DataFrame\n"
   ]
  },
  {
   "cell_type": "code",
   "execution_count": 3,
   "id": "86a0921a",
   "metadata": {
    "execution": {
     "iopub.execute_input": "2024-09-12T11:36:43.711560Z",
     "iopub.status.busy": "2024-09-12T11:36:43.710952Z",
     "iopub.status.idle": "2024-09-12T11:36:43.727521Z",
     "shell.execute_reply": "2024-09-12T11:36:43.726904Z"
    },
    "papermill": {
     "duration": 0.025594,
     "end_time": "2024-09-12T11:36:43.729307",
     "exception": false,
     "start_time": "2024-09-12T11:36:43.703713",
     "status": "completed"
    },
    "tags": []
   },
   "outputs": [
    {
     "data": {
      "text/html": [
       "<div>\n",
       "<style scoped>\n",
       "    .dataframe tbody tr th:only-of-type {\n",
       "        vertical-align: middle;\n",
       "    }\n",
       "\n",
       "    .dataframe tbody tr th {\n",
       "        vertical-align: top;\n",
       "    }\n",
       "\n",
       "    .dataframe thead th {\n",
       "        text-align: right;\n",
       "    }\n",
       "</style>\n",
       "<table border=\"1\" class=\"dataframe\">\n",
       "  <thead>\n",
       "    <tr style=\"text-align: right;\">\n",
       "      <th></th>\n",
       "      <th>N</th>\n",
       "      <th>P</th>\n",
       "      <th>K</th>\n",
       "      <th>temperature</th>\n",
       "      <th>humidity</th>\n",
       "      <th>ph</th>\n",
       "      <th>rainfall</th>\n",
       "      <th>label</th>\n",
       "    </tr>\n",
       "  </thead>\n",
       "  <tbody>\n",
       "    <tr>\n",
       "      <th>0</th>\n",
       "      <td>90</td>\n",
       "      <td>42</td>\n",
       "      <td>43</td>\n",
       "      <td>20.879744</td>\n",
       "      <td>82.002744</td>\n",
       "      <td>6.502985</td>\n",
       "      <td>202.935536</td>\n",
       "      <td>rice</td>\n",
       "    </tr>\n",
       "    <tr>\n",
       "      <th>1</th>\n",
       "      <td>85</td>\n",
       "      <td>58</td>\n",
       "      <td>41</td>\n",
       "      <td>21.770462</td>\n",
       "      <td>80.319644</td>\n",
       "      <td>7.038096</td>\n",
       "      <td>226.655537</td>\n",
       "      <td>rice</td>\n",
       "    </tr>\n",
       "    <tr>\n",
       "      <th>2</th>\n",
       "      <td>60</td>\n",
       "      <td>55</td>\n",
       "      <td>44</td>\n",
       "      <td>23.004459</td>\n",
       "      <td>82.320763</td>\n",
       "      <td>7.840207</td>\n",
       "      <td>263.964248</td>\n",
       "      <td>rice</td>\n",
       "    </tr>\n",
       "    <tr>\n",
       "      <th>3</th>\n",
       "      <td>74</td>\n",
       "      <td>35</td>\n",
       "      <td>40</td>\n",
       "      <td>26.491096</td>\n",
       "      <td>80.158363</td>\n",
       "      <td>6.980401</td>\n",
       "      <td>242.864034</td>\n",
       "      <td>rice</td>\n",
       "    </tr>\n",
       "    <tr>\n",
       "      <th>4</th>\n",
       "      <td>78</td>\n",
       "      <td>42</td>\n",
       "      <td>42</td>\n",
       "      <td>20.130175</td>\n",
       "      <td>81.604873</td>\n",
       "      <td>7.628473</td>\n",
       "      <td>262.717340</td>\n",
       "      <td>rice</td>\n",
       "    </tr>\n",
       "    <tr>\n",
       "      <th>...</th>\n",
       "      <td>...</td>\n",
       "      <td>...</td>\n",
       "      <td>...</td>\n",
       "      <td>...</td>\n",
       "      <td>...</td>\n",
       "      <td>...</td>\n",
       "      <td>...</td>\n",
       "      <td>...</td>\n",
       "    </tr>\n",
       "    <tr>\n",
       "      <th>2195</th>\n",
       "      <td>107</td>\n",
       "      <td>34</td>\n",
       "      <td>32</td>\n",
       "      <td>26.774637</td>\n",
       "      <td>66.413269</td>\n",
       "      <td>6.780064</td>\n",
       "      <td>177.774507</td>\n",
       "      <td>coffee</td>\n",
       "    </tr>\n",
       "    <tr>\n",
       "      <th>2196</th>\n",
       "      <td>99</td>\n",
       "      <td>15</td>\n",
       "      <td>27</td>\n",
       "      <td>27.417112</td>\n",
       "      <td>56.636362</td>\n",
       "      <td>6.086922</td>\n",
       "      <td>127.924610</td>\n",
       "      <td>coffee</td>\n",
       "    </tr>\n",
       "    <tr>\n",
       "      <th>2197</th>\n",
       "      <td>118</td>\n",
       "      <td>33</td>\n",
       "      <td>30</td>\n",
       "      <td>24.131797</td>\n",
       "      <td>67.225123</td>\n",
       "      <td>6.362608</td>\n",
       "      <td>173.322839</td>\n",
       "      <td>coffee</td>\n",
       "    </tr>\n",
       "    <tr>\n",
       "      <th>2198</th>\n",
       "      <td>117</td>\n",
       "      <td>32</td>\n",
       "      <td>34</td>\n",
       "      <td>26.272418</td>\n",
       "      <td>52.127394</td>\n",
       "      <td>6.758793</td>\n",
       "      <td>127.175293</td>\n",
       "      <td>coffee</td>\n",
       "    </tr>\n",
       "    <tr>\n",
       "      <th>2199</th>\n",
       "      <td>104</td>\n",
       "      <td>18</td>\n",
       "      <td>30</td>\n",
       "      <td>23.603016</td>\n",
       "      <td>60.396475</td>\n",
       "      <td>6.779833</td>\n",
       "      <td>140.937041</td>\n",
       "      <td>coffee</td>\n",
       "    </tr>\n",
       "  </tbody>\n",
       "</table>\n",
       "<p>2200 rows × 8 columns</p>\n",
       "</div>"
      ],
      "text/plain": [
       "        N   P   K  temperature   humidity        ph    rainfall   label\n",
       "0      90  42  43    20.879744  82.002744  6.502985  202.935536    rice\n",
       "1      85  58  41    21.770462  80.319644  7.038096  226.655537    rice\n",
       "2      60  55  44    23.004459  82.320763  7.840207  263.964248    rice\n",
       "3      74  35  40    26.491096  80.158363  6.980401  242.864034    rice\n",
       "4      78  42  42    20.130175  81.604873  7.628473  262.717340    rice\n",
       "...   ...  ..  ..          ...        ...       ...         ...     ...\n",
       "2195  107  34  32    26.774637  66.413269  6.780064  177.774507  coffee\n",
       "2196   99  15  27    27.417112  56.636362  6.086922  127.924610  coffee\n",
       "2197  118  33  30    24.131797  67.225123  6.362608  173.322839  coffee\n",
       "2198  117  32  34    26.272418  52.127394  6.758793  127.175293  coffee\n",
       "2199  104  18  30    23.603016  60.396475  6.779833  140.937041  coffee\n",
       "\n",
       "[2200 rows x 8 columns]"
      ]
     },
     "execution_count": 3,
     "metadata": {},
     "output_type": "execute_result"
    }
   ],
   "source": [
    "crop"
   ]
  },
  {
   "cell_type": "markdown",
   "id": "0e33ad59",
   "metadata": {},
   "source": [
    "### Getting the Shape of the DataFrame"
   ]
  },
  {
   "cell_type": "code",
   "execution_count": 4,
   "id": "81ff91c2",
   "metadata": {
    "execution": {
     "iopub.execute_input": "2024-09-12T11:36:43.745604Z",
     "iopub.status.busy": "2024-09-12T11:36:43.745139Z",
     "iopub.status.idle": "2024-09-12T11:36:43.749845Z",
     "shell.execute_reply": "2024-09-12T11:36:43.749196Z"
    },
    "papermill": {
     "duration": 0.014789,
     "end_time": "2024-09-12T11:36:43.751668",
     "exception": false,
     "start_time": "2024-09-12T11:36:43.736879",
     "status": "completed"
    },
    "tags": []
   },
   "outputs": [
    {
     "data": {
      "text/plain": [
       "(2200, 8)"
      ]
     },
     "execution_count": 4,
     "metadata": {},
     "output_type": "execute_result"
    }
   ],
   "source": [
    "crop.shape"
   ]
  },
  {
   "cell_type": "markdown",
   "id": "f462b46e",
   "metadata": {},
   "source": [
    "## Exploratory Data Analysis (EDA)"
   ]
  },
  {
   "cell_type": "markdown",
   "id": "58574018",
   "metadata": {},
   "source": [
    "### Summary of a DataFrame's columns, including data types and non-null values. "
   ]
  },
  {
   "cell_type": "code",
   "execution_count": 5,
   "id": "5ba1d548",
   "metadata": {
    "execution": {
     "iopub.execute_input": "2024-09-12T11:36:43.769656Z",
     "iopub.status.busy": "2024-09-12T11:36:43.769410Z",
     "iopub.status.idle": "2024-09-12T11:36:43.779598Z",
     "shell.execute_reply": "2024-09-12T11:36:43.778907Z"
    },
    "papermill": {
     "duration": 0.021371,
     "end_time": "2024-09-12T11:36:43.781408",
     "exception": false,
     "start_time": "2024-09-12T11:36:43.760037",
     "status": "completed"
    },
    "tags": []
   },
   "outputs": [
    {
     "name": "stdout",
     "output_type": "stream",
     "text": [
      "<class 'pandas.core.frame.DataFrame'>\n",
      "RangeIndex: 2200 entries, 0 to 2199\n",
      "Data columns (total 8 columns):\n",
      " #   Column       Non-Null Count  Dtype  \n",
      "---  ------       --------------  -----  \n",
      " 0   N            2200 non-null   int64  \n",
      " 1   P            2200 non-null   int64  \n",
      " 2   K            2200 non-null   int64  \n",
      " 3   temperature  2200 non-null   float64\n",
      " 4   humidity     2200 non-null   float64\n",
      " 5   ph           2200 non-null   float64\n",
      " 6   rainfall     2200 non-null   float64\n",
      " 7   label        2200 non-null   object \n",
      "dtypes: float64(4), int64(3), object(1)\n",
      "memory usage: 137.6+ KB\n"
     ]
    }
   ],
   "source": [
    "crop.info()"
   ]
  },
  {
   "cell_type": "markdown",
   "id": "c4f59aa7",
   "metadata": {},
   "source": [
    "### Checking for Missing Values in the Dataset"
   ]
  },
  {
   "cell_type": "code",
   "execution_count": 6,
   "id": "eec599ee",
   "metadata": {
    "execution": {
     "iopub.execute_input": "2024-09-12T11:36:43.801095Z",
     "iopub.status.busy": "2024-09-12T11:36:43.800800Z",
     "iopub.status.idle": "2024-09-12T11:36:43.807206Z",
     "shell.execute_reply": "2024-09-12T11:36:43.806456Z"
    },
    "papermill": {
     "duration": 0.018076,
     "end_time": "2024-09-12T11:36:43.809019",
     "exception": false,
     "start_time": "2024-09-12T11:36:43.790943",
     "status": "completed"
    },
    "tags": []
   },
   "outputs": [
    {
     "data": {
      "text/plain": [
       "N              0\n",
       "P              0\n",
       "K              0\n",
       "temperature    0\n",
       "humidity       0\n",
       "ph             0\n",
       "rainfall       0\n",
       "label          0\n",
       "dtype: int64"
      ]
     },
     "execution_count": 6,
     "metadata": {},
     "output_type": "execute_result"
    }
   ],
   "source": [
    "crop.isnull().sum()"
   ]
  },
  {
   "cell_type": "markdown",
   "id": "1322a031",
   "metadata": {},
   "source": [
    "### Identifying Duplicate Records in the Dataset"
   ]
  },
  {
   "cell_type": "code",
   "execution_count": 7,
   "id": "8cc7a540",
   "metadata": {
    "execution": {
     "iopub.execute_input": "2024-09-12T11:36:43.825784Z",
     "iopub.status.busy": "2024-09-12T11:36:43.825535Z",
     "iopub.status.idle": "2024-09-12T11:36:43.832501Z",
     "shell.execute_reply": "2024-09-12T11:36:43.831808Z"
    },
    "papermill": {
     "duration": 0.018125,
     "end_time": "2024-09-12T11:36:43.834608",
     "exception": false,
     "start_time": "2024-09-12T11:36:43.816483",
     "status": "completed"
    },
    "tags": []
   },
   "outputs": [
    {
     "data": {
      "text/plain": [
       "0"
      ]
     },
     "execution_count": 7,
     "metadata": {},
     "output_type": "execute_result"
    }
   ],
   "source": [
    "crop.duplicated().sum()"
   ]
  },
  {
   "cell_type": "markdown",
   "id": "004fb9e3",
   "metadata": {},
   "source": [
    "### Statistical Summary of the Dataset"
   ]
  },
  {
   "cell_type": "code",
   "execution_count": 8,
   "id": "53c5765a",
   "metadata": {
    "execution": {
     "iopub.execute_input": "2024-09-12T11:36:43.851799Z",
     "iopub.status.busy": "2024-09-12T11:36:43.851378Z",
     "iopub.status.idle": "2024-09-12T11:36:43.874307Z",
     "shell.execute_reply": "2024-09-12T11:36:43.873602Z"
    },
    "papermill": {
     "duration": 0.033341,
     "end_time": "2024-09-12T11:36:43.876152",
     "exception": false,
     "start_time": "2024-09-12T11:36:43.842811",
     "status": "completed"
    },
    "scrolled": true,
    "tags": []
   },
   "outputs": [
    {
     "data": {
      "text/html": [
       "<div>\n",
       "<style scoped>\n",
       "    .dataframe tbody tr th:only-of-type {\n",
       "        vertical-align: middle;\n",
       "    }\n",
       "\n",
       "    .dataframe tbody tr th {\n",
       "        vertical-align: top;\n",
       "    }\n",
       "\n",
       "    .dataframe thead th {\n",
       "        text-align: right;\n",
       "    }\n",
       "</style>\n",
       "<table border=\"1\" class=\"dataframe\">\n",
       "  <thead>\n",
       "    <tr style=\"text-align: right;\">\n",
       "      <th></th>\n",
       "      <th>N</th>\n",
       "      <th>P</th>\n",
       "      <th>K</th>\n",
       "      <th>temperature</th>\n",
       "      <th>humidity</th>\n",
       "      <th>ph</th>\n",
       "      <th>rainfall</th>\n",
       "    </tr>\n",
       "  </thead>\n",
       "  <tbody>\n",
       "    <tr>\n",
       "      <th>count</th>\n",
       "      <td>2200.000000</td>\n",
       "      <td>2200.000000</td>\n",
       "      <td>2200.000000</td>\n",
       "      <td>2200.000000</td>\n",
       "      <td>2200.000000</td>\n",
       "      <td>2200.000000</td>\n",
       "      <td>2200.000000</td>\n",
       "    </tr>\n",
       "    <tr>\n",
       "      <th>mean</th>\n",
       "      <td>50.551818</td>\n",
       "      <td>53.362727</td>\n",
       "      <td>48.149091</td>\n",
       "      <td>25.616244</td>\n",
       "      <td>71.481779</td>\n",
       "      <td>6.469480</td>\n",
       "      <td>103.463655</td>\n",
       "    </tr>\n",
       "    <tr>\n",
       "      <th>std</th>\n",
       "      <td>36.917334</td>\n",
       "      <td>32.985883</td>\n",
       "      <td>50.647931</td>\n",
       "      <td>5.063749</td>\n",
       "      <td>22.263812</td>\n",
       "      <td>0.773938</td>\n",
       "      <td>54.958389</td>\n",
       "    </tr>\n",
       "    <tr>\n",
       "      <th>min</th>\n",
       "      <td>0.000000</td>\n",
       "      <td>5.000000</td>\n",
       "      <td>5.000000</td>\n",
       "      <td>8.825675</td>\n",
       "      <td>14.258040</td>\n",
       "      <td>3.504752</td>\n",
       "      <td>20.211267</td>\n",
       "    </tr>\n",
       "    <tr>\n",
       "      <th>25%</th>\n",
       "      <td>21.000000</td>\n",
       "      <td>28.000000</td>\n",
       "      <td>20.000000</td>\n",
       "      <td>22.769375</td>\n",
       "      <td>60.261953</td>\n",
       "      <td>5.971693</td>\n",
       "      <td>64.551686</td>\n",
       "    </tr>\n",
       "    <tr>\n",
       "      <th>50%</th>\n",
       "      <td>37.000000</td>\n",
       "      <td>51.000000</td>\n",
       "      <td>32.000000</td>\n",
       "      <td>25.598693</td>\n",
       "      <td>80.473146</td>\n",
       "      <td>6.425045</td>\n",
       "      <td>94.867624</td>\n",
       "    </tr>\n",
       "    <tr>\n",
       "      <th>75%</th>\n",
       "      <td>84.250000</td>\n",
       "      <td>68.000000</td>\n",
       "      <td>49.000000</td>\n",
       "      <td>28.561654</td>\n",
       "      <td>89.948771</td>\n",
       "      <td>6.923643</td>\n",
       "      <td>124.267508</td>\n",
       "    </tr>\n",
       "    <tr>\n",
       "      <th>max</th>\n",
       "      <td>140.000000</td>\n",
       "      <td>145.000000</td>\n",
       "      <td>205.000000</td>\n",
       "      <td>43.675493</td>\n",
       "      <td>99.981876</td>\n",
       "      <td>9.935091</td>\n",
       "      <td>298.560117</td>\n",
       "    </tr>\n",
       "  </tbody>\n",
       "</table>\n",
       "</div>"
      ],
      "text/plain": [
       "                 N            P            K  temperature     humidity  \\\n",
       "count  2200.000000  2200.000000  2200.000000  2200.000000  2200.000000   \n",
       "mean     50.551818    53.362727    48.149091    25.616244    71.481779   \n",
       "std      36.917334    32.985883    50.647931     5.063749    22.263812   \n",
       "min       0.000000     5.000000     5.000000     8.825675    14.258040   \n",
       "25%      21.000000    28.000000    20.000000    22.769375    60.261953   \n",
       "50%      37.000000    51.000000    32.000000    25.598693    80.473146   \n",
       "75%      84.250000    68.000000    49.000000    28.561654    89.948771   \n",
       "max     140.000000   145.000000   205.000000    43.675493    99.981876   \n",
       "\n",
       "                ph     rainfall  \n",
       "count  2200.000000  2200.000000  \n",
       "mean      6.469480   103.463655  \n",
       "std       0.773938    54.958389  \n",
       "min       3.504752    20.211267  \n",
       "25%       5.971693    64.551686  \n",
       "50%       6.425045    94.867624  \n",
       "75%       6.923643   124.267508  \n",
       "max       9.935091   298.560117  "
      ]
     },
     "execution_count": 8,
     "metadata": {},
     "output_type": "execute_result"
    }
   ],
   "source": [
    "crop.describe()"
   ]
  },
  {
   "cell_type": "markdown",
   "id": "7b43dfba",
   "metadata": {},
   "source": [
    "## Outlier Detection and Treatment Using IQR Method"
   ]
  },
  {
   "cell_type": "code",
   "execution_count": 9,
   "id": "2ed5fedc",
   "metadata": {},
   "outputs": [
    {
     "data": {
      "image/png": "[encoded data removed]",
      "text/plain": [
       "<Figure size 400x300 with 1 Axes>"
      ]
     },
     "metadata": {},
     "output_type": "display_data"
    },
    {
     "name": "stdout",
     "output_type": "stream",
     "text": [
      "for column N\n",
      "IQR----- 63.25\n",
      "Upper Whisker--- 179.125\n",
      "Lower Whisker--- -73.875\n"
     ]
    },
    {
     "data": {
      "image/png": "[encoded data removed]",
      "text/plain": [
       "<Figure size 400x300 with 1 Axes>"
      ]
     },
     "metadata": {},
     "output_type": "display_data"
    },
    {
     "data": {
      "image/png": "[encoded data removed]",
      "text/plain": [
       "<Figure size 400x300 with 1 Axes>"
      ]
     },
     "metadata": {},
     "output_type": "display_data"
    },
    {
     "name": "stdout",
     "output_type": "stream",
     "text": [
      "for column P\n",
      "IQR----- 40.0\n",
      "Upper Whisker--- 128.0\n",
      "Lower Whisker--- -32.0\n"
     ]
    },
    {
     "data": {
      "image/png": "[encoded data removed]",
      "text/plain": [
       "<Figure size 400x300 with 1 Axes>"
      ]
     },
     "metadata": {},
     "output_type": "display_data"
    },
    {
     "data": {
      "image/png": "[encoded data removed]",
      "text/plain": [
       "<Figure size 400x300 with 1 Axes>"
      ]
     },
     "metadata": {},
     "output_type": "display_data"
    },
    {
     "name": "stdout",
     "output_type": "stream",
     "text": [
      "for column K\n",
      "IQR----- 29.0\n",
      "Upper Whisker--- 92.5\n",
      "Lower Whisker--- -23.5\n"
     ]
    },
    {
     "data": {
      "image/png": "[encoded data removed]",
      "text/plain": [
       "<Figure size 400x300 with 1 Axes>"
      ]
     },
     "metadata": {},
     "output_type": "display_data"
    },
    {
     "data": {
      "image/png": "[encoded data removed]",
      "text/plain": [
       "<Figure size 400x300 with 1 Axes>"
      ]
     },
     "metadata": {},
     "output_type": "display_data"
    },
    {
     "name": "stdout",
     "output_type": "stream",
     "text": [
      "for column temperature\n",
      "IQR----- 5.792279300000001\n",
      "Upper Whisker--- 37.2500728825\n",
      "Lower Whisker--- 14.080955682499999\n"
     ]
    },
    {
     "data": {
      "image/png": "[encoded data removed]",
      "text/plain": [
       "<Figure size 400x300 with 1 Axes>"
      ]
     },
     "metadata": {},
     "output_type": "display_data"
    },
    {
     "data": {
      "image/png": "[encoded data removed]",
      "text/plain": [
       "<Figure size 400x300 with 1 Axes>"
      ]
     },
     "metadata": {},
     "output_type": "display_data"
    },
    {
     "name": "stdout",
     "output_type": "stream",
     "text": [
      "for column humidity\n",
      "IQR----- 29.6868179525\n",
      "Upper Whisker--- 134.47899768374998\n",
      "Lower Whisker--- 15.731725873750001\n"
     ]
    },
    {
     "data": {
      "image/png": "[encoded data removed]",
      "text/plain": [
       "<Figure size 400x300 with 1 Axes>"
      ]
     },
     "metadata": {},
     "output_type": "display_data"
    },
    {
     "data": {
      "image/png": "[encoded data removed]",
      "text/plain": [
       "<Figure size 400x300 with 1 Axes>"
      ]
     },
     "metadata": {},
     "output_type": "display_data"
    },
    {
     "name": "stdout",
     "output_type": "stream",
     "text": [
      "for column ph\n",
      "IQR----- 0.9519498220000013\n",
      "Upper Whisker--- 8.351567354250005\n",
      "Lower Whisker--- 4.543768066249998\n"
     ]
    },
    {
     "data": {
      "image/png": "[encoded data removed]",
      "text/plain": [
       "<Figure size 400x300 with 1 Axes>"
      ]
     },
     "metadata": {},
     "output_type": "display_data"
    },
    {
     "data": {
      "image/png": "[encoded data removed]",
      "text/plain": [
       "<Figure size 400x300 with 1 Axes>"
      ]
     },
     "metadata": {},
     "output_type": "display_data"
    },
    {
     "name": "stdout",
     "output_type": "stream",
     "text": [
      "for column rainfall\n",
      "IQR----- 59.715821800000015\n",
      "Upper Whisker--- 213.84124050000003\n",
      "Lower Whisker--- -25.022046700000033\n"
     ]
    },
    {
     "data": {
      "image/png": "[encoded data removed]",
      "text/plain": [
       "<Figure size 400x300 with 1 Axes>"
      ]
     },
     "metadata": {},
     "output_type": "display_data"
    }
   ],
   "source": [
    "for  i in crop.describe().columns:\n",
    "    plt.figure(figsize=(4,3))\n",
    "    plt.boxplot(crop[i])     #Create boxplots for visualizing outliers.\n",
    "    plt.title(i)\n",
    "    plt.show()\n",
    "\n",
    "    \n",
    "    q1=crop[i].quantile(0.25)\n",
    "    q3=crop[i].quantile(0.75)\n",
    "    iqr=q3-q1\n",
    "    upper=q3+(1.5*iqr)\n",
    "    lower=q1-(1.5*iqr)\n",
    "    \n",
    "    print(\"for column\" ,i) \n",
    "    print(\"IQR-----\",iqr)\n",
    "    print(\"Upper Whisker---\",upper)\n",
    "    print(\"Lower Whisker---\",lower)\n",
    "    \n",
    "    crop.loc[crop[i]<lower,i]=lower\n",
    "    crop.loc[crop[i]>upper,i]=upper\n",
    "    \n",
    "    plt.figure(figsize=(4,3))\n",
    "    plt.boxplot(crop[i])\n",
    "    plt.title(i)\n",
    "    plt.show()"
   ]
  },
  {
   "cell_type": "markdown",
   "id": "d0814e27",
   "metadata": {},
   "source": [
    "### Calculate skewness of each numeric feature in the dataset"
   ]
  },
  {
   "cell_type": "code",
   "execution_count": 10,
   "id": "16828f25",
   "metadata": {},
   "outputs": [
    {
     "name": "stdout",
     "output_type": "stream",
     "text": [
      "N              0.509721\n",
      "P              0.836609\n",
      "K              1.116640\n",
      "temperature    0.070778\n",
      "humidity      -1.087575\n",
      "ph             0.146471\n",
      "rainfall       0.663507\n",
      "dtype: float64\n"
     ]
    }
   ],
   "source": [
    "skewness = crop.drop('label', axis=1).skew()  # Exclude the 'label' column as it's categorical\n",
    "print(skewness) #range of skewness is -2 to 2"
   ]
  },
  {
   "cell_type": "markdown",
   "id": "cdeec33a",
   "metadata": {},
   "source": [
    "### Visualizing a bar plot of skewness for each feature"
   ]
  },
  {
   "cell_type": "code",
   "execution_count": 11,
   "id": "560d19ff",
   "metadata": {},
   "outputs": [
    {
     "data": {
      "image/png": "[encoded data removed]",
      "text/plain": [
       "<Figure size 640x480 with 1 Axes>"
      ]
     },
     "metadata": {},
     "output_type": "display_data"
    }
   ],
   "source": [
    "sns.barplot(x=skewness.index, y=skewness.values)\n",
    "plt.axhline(0, color='red', linestyle='--')  # Line at y=0 for reference\n",
    "plt.title('Skewness of Features in Crop Dataset')\n",
    "plt.xlabel('Features')\n",
    "plt.ylabel('Skewness')\n",
    "plt.xticks(rotation=45)\n",
    "plt.show()"
   ]
  },
  {
   "cell_type": "markdown",
   "id": "b8b3a66f",
   "metadata": {},
   "source": [
    "### Correlation Matrix to Analyze Feature Relationships"
   ]
  },
  {
   "cell_type": "code",
   "execution_count": 12,
   "id": "1f7a787a",
   "metadata": {
    "execution": {
     "iopub.execute_input": "2024-09-12T11:36:43.891776Z",
     "iopub.status.busy": "2024-09-12T11:36:43.891520Z",
     "iopub.status.idle": "2024-09-12T11:36:43.902436Z",
     "shell.execute_reply": "2024-09-12T11:36:43.901703Z"
    },
    "papermill": {
     "duration": 0.020634,
     "end_time": "2024-09-12T11:36:43.903995",
     "exception": false,
     "start_time": "2024-09-12T11:36:43.883361",
     "status": "completed"
    },
    "tags": []
   },
   "outputs": [
    {
     "data": {
      "text/html": [
       "<div>\n",
       "<style scoped>\n",
       "    .dataframe tbody tr th:only-of-type {\n",
       "        vertical-align: middle;\n",
       "    }\n",
       "\n",
       "    .dataframe tbody tr th {\n",
       "        vertical-align: top;\n",
       "    }\n",
       "\n",
       "    .dataframe thead th {\n",
       "        text-align: right;\n",
       "    }\n",
       "</style>\n",
       "<table border=\"1\" class=\"dataframe\">\n",
       "  <thead>\n",
       "    <tr style=\"text-align: right;\">\n",
       "      <th></th>\n",
       "      <th>N</th>\n",
       "      <th>P</th>\n",
       "      <th>K</th>\n",
       "      <th>temperature</th>\n",
       "      <th>humidity</th>\n",
       "      <th>ph</th>\n",
       "      <th>rainfall</th>\n",
       "    </tr>\n",
       "  </thead>\n",
       "  <tbody>\n",
       "    <tr>\n",
       "      <th>N</th>\n",
       "      <td>1.000000</td>\n",
       "      <td>-0.227834</td>\n",
       "      <td>0.019000</td>\n",
       "      <td>0.023850</td>\n",
       "      <td>0.190746</td>\n",
       "      <td>0.106321</td>\n",
       "      <td>0.044041</td>\n",
       "    </tr>\n",
       "    <tr>\n",
       "      <th>P</th>\n",
       "      <td>-0.227834</td>\n",
       "      <td>1.000000</td>\n",
       "      <td>0.561850</td>\n",
       "      <td>-0.132569</td>\n",
       "      <td>-0.138850</td>\n",
       "      <td>-0.140243</td>\n",
       "      <td>-0.063986</td>\n",
       "    </tr>\n",
       "    <tr>\n",
       "      <th>K</th>\n",
       "      <td>0.019000</td>\n",
       "      <td>0.561850</td>\n",
       "      <td>1.000000</td>\n",
       "      <td>-0.164312</td>\n",
       "      <td>0.120765</td>\n",
       "      <td>-0.107937</td>\n",
       "      <td>-0.026358</td>\n",
       "    </tr>\n",
       "    <tr>\n",
       "      <th>temperature</th>\n",
       "      <td>0.023850</td>\n",
       "      <td>-0.132569</td>\n",
       "      <td>-0.164312</td>\n",
       "      <td>1.000000</td>\n",
       "      <td>0.212362</td>\n",
       "      <td>-0.020906</td>\n",
       "      <td>-0.041047</td>\n",
       "    </tr>\n",
       "    <tr>\n",
       "      <th>humidity</th>\n",
       "      <td>0.190746</td>\n",
       "      <td>-0.138850</td>\n",
       "      <td>0.120765</td>\n",
       "      <td>0.212362</td>\n",
       "      <td>1.000000</td>\n",
       "      <td>0.000323</td>\n",
       "      <td>0.085163</td>\n",
       "    </tr>\n",
       "    <tr>\n",
       "      <th>ph</th>\n",
       "      <td>0.106321</td>\n",
       "      <td>-0.140243</td>\n",
       "      <td>-0.107937</td>\n",
       "      <td>-0.020906</td>\n",
       "      <td>0.000323</td>\n",
       "      <td>1.000000</td>\n",
       "      <td>-0.119116</td>\n",
       "    </tr>\n",
       "    <tr>\n",
       "      <th>rainfall</th>\n",
       "      <td>0.044041</td>\n",
       "      <td>-0.063986</td>\n",
       "      <td>-0.026358</td>\n",
       "      <td>-0.041047</td>\n",
       "      <td>0.085163</td>\n",
       "      <td>-0.119116</td>\n",
       "      <td>1.000000</td>\n",
       "    </tr>\n",
       "  </tbody>\n",
       "</table>\n",
       "</div>"
      ],
      "text/plain": [
       "                    N         P         K  temperature  humidity        ph  \\\n",
       "N            1.000000 -0.227834  0.019000     0.023850  0.190746  0.106321   \n",
       "P           -0.227834  1.000000  0.561850    -0.132569 -0.138850 -0.140243   \n",
       "K            0.019000  0.561850  1.000000    -0.164312  0.120765 -0.107937   \n",
       "temperature  0.023850 -0.132569 -0.164312     1.000000  0.212362 -0.020906   \n",
       "humidity     0.190746 -0.138850  0.120765     0.212362  1.000000  0.000323   \n",
       "ph           0.106321 -0.140243 -0.107937    -0.020906  0.000323  1.000000   \n",
       "rainfall     0.044041 -0.063986 -0.026358    -0.041047  0.085163 -0.119116   \n",
       "\n",
       "             rainfall  \n",
       "N            0.044041  \n",
       "P           -0.063986  \n",
       "K           -0.026358  \n",
       "temperature -0.041047  \n",
       "humidity     0.085163  \n",
       "ph          -0.119116  \n",
       "rainfall     1.000000  "
      ]
     },
     "execution_count": 12,
     "metadata": {},
     "output_type": "execute_result"
    }
   ],
   "source": [
    "corr=crop.corr(numeric_only=True)\n",
    "corr"
   ]
  },
  {
   "cell_type": "markdown",
   "id": "e14d9176",
   "metadata": {},
   "source": [
    "### Visualizing Correlation Matrix with Heatmap"
   ]
  },
  {
   "cell_type": "code",
   "execution_count": 13,
   "id": "133079cf",
   "metadata": {
    "execution": {
     "iopub.execute_input": "2024-09-12T11:36:43.923246Z",
     "iopub.status.busy": "2024-09-12T11:36:43.923009Z",
     "iopub.status.idle": "2024-09-12T11:36:46.580220Z",
     "shell.execute_reply": "2024-09-12T11:36:46.579473Z"
    },
    "papermill": {
     "duration": 2.667563,
     "end_time": "2024-09-12T11:36:46.582111",
     "exception": false,
     "start_time": "2024-09-12T11:36:43.914548",
     "status": "completed"
    },
    "tags": []
   },
   "outputs": [
    {
     "data": {
      "text/plain": [
       "<Axes: >"
      ]
     },
     "execution_count": 13,
     "metadata": {},
     "output_type": "execute_result"
    },
    {
     "data": {
      "image/png": "[encoded data removed]",
      "text/plain": [
       "<Figure size 640x480 with 2 Axes>"
      ]
     },
     "metadata": {},
     "output_type": "display_data"
    }
   ],
   "source": [
    "sns.heatmap(corr, annot=True, cbar= True)"
   ]
  },
  {
   "cell_type": "markdown",
   "id": "7a3b8a00",
   "metadata": {},
   "source": [
    "### Distribution of Crop Labels in the Dataset"
   ]
  },
  {
   "cell_type": "code",
   "execution_count": 14,
   "id": "93072848",
   "metadata": {
    "execution": {
     "iopub.execute_input": "2024-09-12T11:36:46.598623Z",
     "iopub.status.busy": "2024-09-12T11:36:46.598281Z",
     "iopub.status.idle": "2024-09-12T11:36:46.605000Z",
     "shell.execute_reply": "2024-09-12T11:36:46.604395Z"
    },
    "papermill": {
     "duration": 0.017155,
     "end_time": "2024-09-12T11:36:46.606791",
     "exception": false,
     "start_time": "2024-09-12T11:36:46.589636",
     "status": "completed"
    },
    "tags": []
   },
   "outputs": [
    {
     "data": {
      "text/plain": [
       "label\n",
       "rice           100\n",
       "maize          100\n",
       "jute           100\n",
       "cotton         100\n",
       "coconut        100\n",
       "papaya         100\n",
       "orange         100\n",
       "apple          100\n",
       "muskmelon      100\n",
       "watermelon     100\n",
       "grapes         100\n",
       "mango          100\n",
       "banana         100\n",
       "pomegranate    100\n",
       "lentil         100\n",
       "blackgram      100\n",
       "mungbean       100\n",
       "mothbeans      100\n",
       "pigeonpeas     100\n",
       "kidneybeans    100\n",
       "chickpea       100\n",
       "coffee         100\n",
       "Name: count, dtype: int64"
      ]
     },
     "execution_count": 14,
     "metadata": {},
     "output_type": "execute_result"
    }
   ],
   "source": [
    "crop.label.value_counts()"
   ]
  },
  {
   "cell_type": "markdown",
   "id": "28275476",
   "metadata": {},
   "source": [
    "### Identifying Unique Crop Labels in the Dataset"
   ]
  },
  {
   "cell_type": "code",
   "execution_count": 15,
   "id": "b4686f7c",
   "metadata": {
    "execution": {
     "iopub.execute_input": "2024-09-12T11:36:46.623217Z",
     "iopub.status.busy": "2024-09-12T11:36:46.622994Z",
     "iopub.status.idle": "2024-09-12T11:36:46.627425Z",
     "shell.execute_reply": "2024-09-12T11:36:46.626851Z"
    },
    "papermill": {
     "duration": 0.014515,
     "end_time": "2024-09-12T11:36:46.628997",
     "exception": false,
     "start_time": "2024-09-12T11:36:46.614482",
     "status": "completed"
    },
    "scrolled": false,
    "tags": []
   },
   "outputs": [
    {
     "data": {
      "text/plain": [
       "array(['rice', 'maize', 'chickpea', 'kidneybeans', 'pigeonpeas',\n",
       "       'mothbeans', 'mungbean', 'blackgram', 'lentil', 'pomegranate',\n",
       "       'banana', 'mango', 'grapes', 'watermelon', 'muskmelon', 'apple',\n",
       "       'orange', 'papaya', 'coconut', 'cotton', 'jute', 'coffee'],\n",
       "      dtype=object)"
      ]
     },
     "execution_count": 15,
     "metadata": {},
     "output_type": "execute_result"
    }
   ],
   "source": [
    "crop['label'].unique()"
   ]
  },
  {
   "cell_type": "markdown",
   "id": "eabcda96",
   "metadata": {},
   "source": [
    "### Identifying Unique Crop Labels size in the Dataset"
   ]
  },
  {
   "cell_type": "code",
   "execution_count": 16,
   "id": "8f42e95b",
   "metadata": {
    "execution": {
     "iopub.execute_input": "2024-09-12T11:36:46.647003Z",
     "iopub.status.busy": "2024-09-12T11:36:46.646712Z",
     "iopub.status.idle": "2024-09-12T11:36:46.651351Z",
     "shell.execute_reply": "2024-09-12T11:36:46.650707Z"
    },
    "papermill": {
     "duration": 0.015745,
     "end_time": "2024-09-12T11:36:46.653041",
     "exception": false,
     "start_time": "2024-09-12T11:36:46.637296",
     "status": "completed"
    },
    "tags": []
   },
   "outputs": [
    {
     "data": {
      "text/plain": [
       "22"
      ]
     },
     "execution_count": 16,
     "metadata": {},
     "output_type": "execute_result"
    }
   ],
   "source": [
    "crop['label'].unique().size"
   ]
  },
  {
   "cell_type": "markdown",
   "id": "4ccbecf0",
   "metadata": {},
   "source": [
    "### Visualizing the Distribution of Nitrogen (N) Levels"
   ]
  },
  {
   "cell_type": "code",
   "execution_count": 17,
   "id": "0752e70b",
   "metadata": {
    "execution": {
     "iopub.execute_input": "2024-09-12T11:36:46.670041Z",
     "iopub.status.busy": "2024-09-12T11:36:46.669703Z",
     "iopub.status.idle": "2024-09-12T11:36:46.881344Z",
     "shell.execute_reply": "2024-09-12T11:36:46.880620Z"
    },
    "papermill": {
     "duration": 0.221703,
     "end_time": "2024-09-12T11:36:46.883017",
     "exception": false,
     "start_time": "2024-09-12T11:36:46.661314",
     "status": "completed"
    },
    "tags": []
   },
   "outputs": [
    {
     "data": {
      "image/png": "[encoded data removed]",
      "text/plain": [
       "<Figure size 640x480 with 1 Axes>"
      ]
     },
     "metadata": {},
     "output_type": "display_data"
    }
   ],
   "source": [
    "sns.distplot(crop['N'])\n",
    "plt.show()"
   ]
  },
  {
   "cell_type": "markdown",
   "id": "fa3077fa",
   "metadata": {},
   "source": [
    "### Visualizing the Distribution of Phosphorus (P) Levels"
   ]
  },
  {
   "cell_type": "code",
   "execution_count": 18,
   "id": "73291260",
   "metadata": {
    "execution": {
     "iopub.execute_input": "2024-09-12T11:36:46.900124Z",
     "iopub.status.busy": "2024-09-12T11:36:46.899823Z",
     "iopub.status.idle": "2024-09-12T11:36:47.100194Z",
     "shell.execute_reply": "2024-09-12T11:36:47.099520Z"
    },
    "papermill": {
     "duration": 0.210758,
     "end_time": "2024-09-12T11:36:47.101938",
     "exception": false,
     "start_time": "2024-09-12T11:36:46.891180",
     "status": "completed"
    },
    "scrolled": true,
    "tags": []
   },
   "outputs": [
    {
     "data": {
      "image/png": "[encoded data removed]",
      "text/plain": [
       "<Figure size 640x480 with 1 Axes>"
      ]
     },
     "metadata": {},
     "output_type": "display_data"
    }
   ],
   "source": [
    "sns.distplot(crop['P'])\n",
    "plt.show()"
   ]
  },
  {
   "cell_type": "markdown",
   "id": "0df84820",
   "metadata": {},
   "source": [
    "### Visualizing the Distribution of Potassium (K) Levels"
   ]
  },
  {
   "cell_type": "code",
   "execution_count": 19,
   "id": "7ed02c96",
   "metadata": {},
   "outputs": [
    {
     "data": {
      "image/png": "[encoded data removed]",
      "text/plain": [
       "<Figure size 640x480 with 1 Axes>"
      ]
     },
     "metadata": {},
     "output_type": "display_data"
    }
   ],
   "source": [
    "sns.distplot(crop['K'])\n",
    "plt.show()"
   ]
  },
  {
   "cell_type": "markdown",
   "id": "81f1cb87",
   "metadata": {},
   "source": [
    "### Identifying Unique Crop Labels in the Dataset"
   ]
  },
  {
   "cell_type": "code",
   "execution_count": 20,
   "id": "a948c151",
   "metadata": {
    "execution": {
     "iopub.execute_input": "2024-09-12T11:36:47.119825Z",
     "iopub.status.busy": "2024-09-12T11:36:47.119602Z",
     "iopub.status.idle": "2024-09-12T11:36:47.124325Z",
     "shell.execute_reply": "2024-09-12T11:36:47.123867Z"
    },
    "papermill": {
     "duration": 0.015328,
     "end_time": "2024-09-12T11:36:47.125771",
     "exception": false,
     "start_time": "2024-09-12T11:36:47.110443",
     "status": "completed"
    },
    "scrolled": true,
    "tags": []
   },
   "outputs": [
    {
     "data": {
      "text/plain": [
       "array(['rice', 'maize', 'chickpea', 'kidneybeans', 'pigeonpeas',\n",
       "       'mothbeans', 'mungbean', 'blackgram', 'lentil', 'pomegranate',\n",
       "       'banana', 'mango', 'grapes', 'watermelon', 'muskmelon', 'apple',\n",
       "       'orange', 'papaya', 'coconut', 'cotton', 'jute', 'coffee'],\n",
       "      dtype=object)"
      ]
     },
     "execution_count": 20,
     "metadata": {},
     "output_type": "execute_result"
    }
   ],
   "source": [
    "crop['label'].unique()"
   ]
  },
  {
   "cell_type": "markdown",
   "id": "1e7f0d35",
   "metadata": {},
   "source": [
    "## Encoding Categorical Labels for Crop Classification Using a Dictionary"
   ]
  },
  {
   "cell_type": "code",
   "execution_count": 21,
   "id": "22b95ebc",
   "metadata": {
    "execution": {
     "iopub.execute_input": "2024-09-12T11:36:47.143402Z",
     "iopub.status.busy": "2024-09-12T11:36:47.143185Z",
     "iopub.status.idle": "2024-09-12T11:36:47.148238Z",
     "shell.execute_reply": "2024-09-12T11:36:47.147625Z"
    },
    "papermill": {
     "duration": 0.015691,
     "end_time": "2024-09-12T11:36:47.149813",
     "exception": false,
     "start_time": "2024-09-12T11:36:47.134122",
     "status": "completed"
    },
    "tags": []
   },
   "outputs": [],
   "source": [
    "crop_dict={\n",
    "    'rice': 1,\n",
    "    'maize': 2,\n",
    "    'chickpea': 3,\n",
    "    'kidneybeans': 4,\n",
    "    'pigeonpeas': 5,\n",
    "    'mothbeans': 6,\n",
    "    'mungbean': 7,\n",
    "    'blackgram': 8,\n",
    "    'lentil': 9,\n",
    "    'pomegranate': 10,\n",
    "    'banana': 11,\n",
    "    'mango': 12,\n",
    "    'grapes': 13,\n",
    "    'watermelon': 14,\n",
    "    'muskmelon': 15,\n",
    "    'apple': 16,\n",
    "    'orange': 17,\n",
    "    'papaya': 18,\n",
    "    'coconut': 19,\n",
    "    'cotton': 20,\n",
    "    'jute': 21,\n",
    "    'coffee':22\n",
    "}\n",
    "\n",
    "crop['label'] = crop['label'].map(crop_dict)"
   ]
  },
  {
   "cell_type": "markdown",
   "id": "fc4262ee",
   "metadata": {},
   "source": [
    "### Displaying the Updated DataFrame"
   ]
  },
  {
   "cell_type": "code",
   "execution_count": 22,
   "id": "b78c1350",
   "metadata": {
    "execution": {
     "iopub.execute_input": "2024-09-12T11:36:47.167563Z",
     "iopub.status.busy": "2024-09-12T11:36:47.167347Z",
     "iopub.status.idle": "2024-09-12T11:36:47.176445Z",
     "shell.execute_reply": "2024-09-12T11:36:47.175796Z"
    },
    "papermill": {
     "duration": 0.019893,
     "end_time": "2024-09-12T11:36:47.178087",
     "exception": false,
     "start_time": "2024-09-12T11:36:47.158194",
     "status": "completed"
    },
    "scrolled": true,
    "tags": []
   },
   "outputs": [
    {
     "data": {
      "text/html": [
       "<div>\n",
       "<style scoped>\n",
       "    .dataframe tbody tr th:only-of-type {\n",
       "        vertical-align: middle;\n",
       "    }\n",
       "\n",
       "    .dataframe tbody tr th {\n",
       "        vertical-align: top;\n",
       "    }\n",
       "\n",
       "    .dataframe thead th {\n",
       "        text-align: right;\n",
       "    }\n",
       "</style>\n",
       "<table border=\"1\" class=\"dataframe\">\n",
       "  <thead>\n",
       "    <tr style=\"text-align: right;\">\n",
       "      <th></th>\n",
       "      <th>N</th>\n",
       "      <th>P</th>\n",
       "      <th>K</th>\n",
       "      <th>temperature</th>\n",
       "      <th>humidity</th>\n",
       "      <th>ph</th>\n",
       "      <th>rainfall</th>\n",
       "      <th>label</th>\n",
       "    </tr>\n",
       "  </thead>\n",
       "  <tbody>\n",
       "    <tr>\n",
       "      <th>0</th>\n",
       "      <td>90.0</td>\n",
       "      <td>42</td>\n",
       "      <td>43.0</td>\n",
       "      <td>20.879744</td>\n",
       "      <td>82.002744</td>\n",
       "      <td>6.502985</td>\n",
       "      <td>202.935536</td>\n",
       "      <td>1</td>\n",
       "    </tr>\n",
       "    <tr>\n",
       "      <th>1</th>\n",
       "      <td>85.0</td>\n",
       "      <td>58</td>\n",
       "      <td>41.0</td>\n",
       "      <td>21.770462</td>\n",
       "      <td>80.319644</td>\n",
       "      <td>7.038096</td>\n",
       "      <td>213.841241</td>\n",
       "      <td>1</td>\n",
       "    </tr>\n",
       "    <tr>\n",
       "      <th>2</th>\n",
       "      <td>60.0</td>\n",
       "      <td>55</td>\n",
       "      <td>44.0</td>\n",
       "      <td>23.004459</td>\n",
       "      <td>82.320763</td>\n",
       "      <td>7.840207</td>\n",
       "      <td>213.841241</td>\n",
       "      <td>1</td>\n",
       "    </tr>\n",
       "    <tr>\n",
       "      <th>3</th>\n",
       "      <td>74.0</td>\n",
       "      <td>35</td>\n",
       "      <td>40.0</td>\n",
       "      <td>26.491096</td>\n",
       "      <td>80.158363</td>\n",
       "      <td>6.980401</td>\n",
       "      <td>213.841241</td>\n",
       "      <td>1</td>\n",
       "    </tr>\n",
       "    <tr>\n",
       "      <th>4</th>\n",
       "      <td>78.0</td>\n",
       "      <td>42</td>\n",
       "      <td>42.0</td>\n",
       "      <td>20.130175</td>\n",
       "      <td>81.604873</td>\n",
       "      <td>7.628473</td>\n",
       "      <td>213.841241</td>\n",
       "      <td>1</td>\n",
       "    </tr>\n",
       "  </tbody>\n",
       "</table>\n",
       "</div>"
      ],
      "text/plain": [
       "      N   P     K  temperature   humidity        ph    rainfall  label\n",
       "0  90.0  42  43.0    20.879744  82.002744  6.502985  202.935536      1\n",
       "1  85.0  58  41.0    21.770462  80.319644  7.038096  213.841241      1\n",
       "2  60.0  55  44.0    23.004459  82.320763  7.840207  213.841241      1\n",
       "3  74.0  35  40.0    26.491096  80.158363  6.980401  213.841241      1\n",
       "4  78.0  42  42.0    20.130175  81.604873  7.628473  213.841241      1"
      ]
     },
     "execution_count": 22,
     "metadata": {},
     "output_type": "execute_result"
    }
   ],
   "source": [
    "crop.head()"
   ]
  },
  {
   "cell_type": "markdown",
   "id": "d4ae3f7e",
   "metadata": {},
   "source": [
    "### Checking Unique Crop Labels Again"
   ]
  },
  {
   "cell_type": "code",
   "execution_count": 23,
   "id": "e647d998",
   "metadata": {
    "execution": {
     "iopub.execute_input": "2024-09-12T11:36:47.196263Z",
     "iopub.status.busy": "2024-09-12T11:36:47.196037Z",
     "iopub.status.idle": "2024-09-12T11:36:47.200691Z",
     "shell.execute_reply": "2024-09-12T11:36:47.199997Z"
    },
    "papermill": {
     "duration": 0.015738,
     "end_time": "2024-09-12T11:36:47.202394",
     "exception": false,
     "start_time": "2024-09-12T11:36:47.186656",
     "status": "completed"
    },
    "scrolled": true,
    "tags": []
   },
   "outputs": [
    {
     "data": {
      "text/plain": [
       "array([ 1,  2,  3,  4,  5,  6,  7,  8,  9, 10, 11, 12, 13, 14, 15, 16, 17,\n",
       "       18, 19, 20, 21, 22], dtype=int64)"
      ]
     },
     "execution_count": 23,
     "metadata": {},
     "output_type": "execute_result"
    }
   ],
   "source": [
    "crop['label'].unique()"
   ]
  },
  {
   "cell_type": "markdown",
   "id": "891f6949",
   "metadata": {},
   "source": [
    "### Value Distribution of  Crop Labels Again"
   ]
  },
  {
   "cell_type": "code",
   "execution_count": 24,
   "id": "f8e76a68",
   "metadata": {
    "execution": {
     "iopub.execute_input": "2024-09-12T11:36:47.220619Z",
     "iopub.status.busy": "2024-09-12T11:36:47.220365Z",
     "iopub.status.idle": "2024-09-12T11:36:47.225963Z",
     "shell.execute_reply": "2024-09-12T11:36:47.225397Z"
    },
    "papermill": {
     "duration": 0.01657,
     "end_time": "2024-09-12T11:36:47.227575",
     "exception": false,
     "start_time": "2024-09-12T11:36:47.211005",
     "status": "completed"
    },
    "scrolled": true,
    "tags": []
   },
   "outputs": [
    {
     "data": {
      "text/plain": [
       "label\n",
       "1     100\n",
       "2     100\n",
       "21    100\n",
       "20    100\n",
       "19    100\n",
       "18    100\n",
       "17    100\n",
       "16    100\n",
       "15    100\n",
       "14    100\n",
       "13    100\n",
       "12    100\n",
       "11    100\n",
       "10    100\n",
       "9     100\n",
       "8     100\n",
       "7     100\n",
       "6     100\n",
       "5     100\n",
       "4     100\n",
       "3     100\n",
       "22    100\n",
       "Name: count, dtype: int64"
      ]
     },
     "execution_count": 24,
     "metadata": {},
     "output_type": "execute_result"
    }
   ],
   "source": [
    "crop['label'].value_counts()"
   ]
  },
  {
   "cell_type": "markdown",
   "id": "fcf26ae5",
   "metadata": {},
   "source": [
    "### Separating Features and Target Variable"
   ]
  },
  {
   "cell_type": "code",
   "execution_count": 25,
   "id": "17553246",
   "metadata": {},
   "outputs": [],
   "source": [
    "X = crop.drop('label', axis=1)\n",
    "y = crop['label']"
   ]
  },
  {
   "cell_type": "markdown",
   "id": "9567419f",
   "metadata": {},
   "source": [
    "### Splitting the Data into Training and Testing Part"
   ]
  },
  {
   "cell_type": "code",
   "execution_count": 26,
   "id": "cc717bf1",
   "metadata": {
    "execution": {
     "iopub.execute_input": "2024-09-12T11:36:47.322265Z",
     "iopub.status.busy": "2024-09-12T11:36:47.322002Z",
     "iopub.status.idle": "2024-09-12T11:36:47.587070Z",
     "shell.execute_reply": "2024-09-12T11:36:47.586403Z"
    },
    "papermill": {
     "duration": 0.27667,
     "end_time": "2024-09-12T11:36:47.589116",
     "exception": false,
     "start_time": "2024-09-12T11:36:47.312446",
     "status": "completed"
    },
    "tags": []
   },
   "outputs": [],
   "source": [
    "from sklearn.model_selection import train_test_split\n",
    "X_train, X_test, y_train, y_test = train_test_split(X, y, test_size=0.2, random_state=42)"
   ]
  },
  {
   "cell_type": "code",
   "execution_count": 27,
   "id": "0872203c",
   "metadata": {
    "execution": {
     "iopub.execute_input": "2024-09-12T11:36:47.608543Z",
     "iopub.status.busy": "2024-09-12T11:36:47.608185Z",
     "iopub.status.idle": "2024-09-12T11:36:47.612887Z",
     "shell.execute_reply": "2024-09-12T11:36:47.612269Z"
    },
    "papermill": {
     "duration": 0.016244,
     "end_time": "2024-09-12T11:36:47.614454",
     "exception": false,
     "start_time": "2024-09-12T11:36:47.598210",
     "status": "completed"
    },
    "tags": []
   },
   "outputs": [
    {
     "data": {
      "text/plain": [
       "(1760, 7)"
      ]
     },
     "execution_count": 27,
     "metadata": {},
     "output_type": "execute_result"
    }
   ],
   "source": [
    "X_train.shape"
   ]
  },
  {
   "cell_type": "code",
   "execution_count": 28,
   "id": "cfb20722",
   "metadata": {
    "execution": {
     "iopub.execute_input": "2024-09-12T11:36:47.634379Z",
     "iopub.status.busy": "2024-09-12T11:36:47.634155Z",
     "iopub.status.idle": "2024-09-12T11:36:47.638303Z",
     "shell.execute_reply": "2024-09-12T11:36:47.637736Z"
    },
    "papermill": {
     "duration": 0.015598,
     "end_time": "2024-09-12T11:36:47.639844",
     "exception": false,
     "start_time": "2024-09-12T11:36:47.624246",
     "status": "completed"
    },
    "tags": []
   },
   "outputs": [
    {
     "data": {
      "text/plain": [
       "(440, 7)"
      ]
     },
     "execution_count": 28,
     "metadata": {},
     "output_type": "execute_result"
    }
   ],
   "source": [
    "X_test.shape"
   ]
  },
  {
   "cell_type": "markdown",
   "id": "ceeaeb27",
   "metadata": {},
   "source": [
    "### Feature Scaling: Enhancing Model Performance with Min-Max Normalization"
   ]
  },
  {
   "cell_type": "code",
   "execution_count": 29,
   "id": "67a31871",
   "metadata": {},
   "outputs": [],
   "source": [
    "from sklearn.preprocessing import MinMaxScaler\n",
    "mx = MinMaxScaler()\n",
    "X_train = mx.fit_transform(X_train)\n",
    "X_test = mx.transform(X_test)"
   ]
  },
  {
   "cell_type": "markdown",
   "id": "d1cd9197",
   "metadata": {},
   "source": [
    "### Display Scaled Training Data"
   ]
  },
  {
   "cell_type": "code",
   "execution_count": 30,
   "id": "2a4a1d64",
   "metadata": {},
   "outputs": [
    {
     "data": {
      "text/plain": [
       "array([[0.12142857, 0.08943089, 0.10285714, ..., 0.90741433, 0.54671227,\n",
       "        0.42683288],\n",
       "       [0.26428571, 0.60162602, 0.16      , ..., 0.63639219, 0.68285498,\n",
       "        0.25350661],\n",
       "       [0.05      , 0.55284553, 0.22857143, ..., 0.56261534, 0.720702  ,\n",
       "        0.12842796],\n",
       "       ...,\n",
       "       [0.07857143, 0.25203252, 0.29714286, ..., 0.42786788, 0.50729598,\n",
       "        0.41295249],\n",
       "       [0.07857143, 0.96747967, 1.        , ..., 0.76361423, 0.47727648,\n",
       "        0.26380037],\n",
       "       [0.22857143, 0.59349593, 0.19428571, ..., 0.55339782, 0.64690107,\n",
       "        0.17081269]])"
      ]
     },
     "execution_count": 30,
     "metadata": {},
     "output_type": "execute_result"
    }
   ],
   "source": [
    "X_train"
   ]
  },
  {
   "cell_type": "markdown",
   "id": "de440164",
   "metadata": {},
   "source": [
    "## Model Selection"
   ]
  },
  {
   "cell_type": "raw",
   "id": "2b707ffe",
   "metadata": {},
   "source": [
    "Logistic Regression\n",
    "Gaussian Naive Bayes (Gaussian NB)\n",
    "Support Vector Machine (SVM)\n",
    "K-Neighbors (KNN)\n",
    "Decision Tree\n",
    "Extra Tree\n",
    "Random Forest\n",
    "Bagging\n",
    "AdaBoost\n",
    "Gradient Boosting"
   ]
  },
  {
   "cell_type": "markdown",
   "id": "aa0309a9",
   "metadata": {},
   "source": [
    "### Importing Machine Learning Models and Evaluation Metrics"
   ]
  },
  {
   "cell_type": "code",
   "execution_count": 31,
   "id": "647bb6c9",
   "metadata": {
    "execution": {
     "iopub.execute_input": "2024-09-12T11:36:47.738741Z",
     "iopub.status.busy": "2024-09-12T11:36:47.738390Z",
     "iopub.status.idle": "2024-09-12T11:36:47.967681Z",
     "shell.execute_reply": "2024-09-12T11:36:47.967014Z"
    },
    "papermill": {
     "duration": 0.241213,
     "end_time": "2024-09-12T11:36:47.969479",
     "exception": false,
     "start_time": "2024-09-12T11:36:47.728266",
     "status": "completed"
    },
    "tags": []
   },
   "outputs": [],
   "source": [
    "from sklearn.linear_model import LogisticRegression\n",
    "from sklearn.naive_bayes import GaussianNB\n",
    "from sklearn.svm import SVC\n",
    "from sklearn.neighbors import KNeighborsClassifier\n",
    "from sklearn.tree import DecisionTreeClassifier, ExtraTreeClassifier\n",
    "from sklearn.ensemble import RandomForestClassifier, BaggingClassifier, GradientBoostingClassifier, AdaBoostClassifier\n",
    "from sklearn.metrics import accuracy_score"
   ]
  },
  {
   "cell_type": "markdown",
   "id": "9f75d9f1",
   "metadata": {},
   "source": [
    "### Create the Object For Each Model Using Dictionary"
   ]
  },
  {
   "cell_type": "code",
   "execution_count": 32,
   "id": "d20e4d26",
   "metadata": {
    "execution": {
     "iopub.execute_input": "2024-09-12T11:36:47.989471Z",
     "iopub.status.busy": "2024-09-12T11:36:47.989141Z",
     "iopub.status.idle": "2024-09-12T11:36:47.993441Z",
     "shell.execute_reply": "2024-09-12T11:36:47.992884Z"
    },
    "papermill": {
     "duration": 0.016025,
     "end_time": "2024-09-12T11:36:47.994948",
     "exception": false,
     "start_time": "2024-09-12T11:36:47.978923",
     "status": "completed"
    },
    "tags": []
   },
   "outputs": [],
   "source": [
    "models = {\n",
    "    'LogisticRegression': LogisticRegression(),\n",
    "    'GaussianNB': GaussianNB(),\n",
    "    'SVC': SVC(),\n",
    "    'KNeighborsClassifier': KNeighborsClassifier(),\n",
    "    'DecisionTreeClassifier': DecisionTreeClassifier(),\n",
    "    'ExtraTreeClassifier': ExtraTreeClassifier(),\n",
    "    'RandomForestClassifier': RandomForestClassifier(),\n",
    "    'BaggingClassifier': BaggingClassifier(),\n",
    "    'GradientBoostingClassifier': GradientBoostingClassifier(),\n",
    "    'AdaBoostClassifier': AdaBoostClassifier()\n",
    "}"
   ]
  },
  {
   "cell_type": "markdown",
   "id": "ccd05207",
   "metadata": {},
   "source": [
    "### Model Fit and Accuracy Evaluation"
   ]
  },
  {
   "cell_type": "code",
   "execution_count": 33,
   "id": "8295a49f",
   "metadata": {
    "execution": {
     "iopub.execute_input": "2024-09-12T11:36:48.014298Z",
     "iopub.status.busy": "2024-09-12T11:36:48.014075Z",
     "iopub.status.idle": "2024-09-12T11:36:59.065937Z",
     "shell.execute_reply": "2024-09-12T11:36:59.064994Z"
    },
    "papermill": {
     "duration": 11.063524,
     "end_time": "2024-09-12T11:36:59.067591",
     "exception": false,
     "start_time": "2024-09-12T11:36:48.004067",
     "status": "completed"
    },
    "tags": []
   },
   "outputs": [
    {
     "name": "stdout",
     "output_type": "stream",
     "text": [
      "LogisticRegression mode with accuracy: 0.9272727272727272\n",
      "GaussianNB mode with accuracy: 0.9954545454545455\n",
      "SVC mode with accuracy: 0.975\n",
      "KNeighborsClassifier mode with accuracy: 0.9727272727272728\n",
      "DecisionTreeClassifier mode with accuracy: 0.9840909090909091\n",
      "ExtraTreeClassifier mode with accuracy: 0.9136363636363637\n",
      "RandomForestClassifier mode with accuracy: 0.9931818181818182\n",
      "BaggingClassifier mode with accuracy: 0.990909090909091\n",
      "GradientBoostingClassifier mode with accuracy: 0.9818181818181818\n",
      "AdaBoostClassifier mode with accuracy: 0.1409090909090909\n"
     ]
    }
   ],
   "source": [
    "for name, model in models.items():\n",
    "    model.fit(X_train, y_train)\n",
    "    y_pred = model.predict(X_test)\n",
    "    score = accuracy_score(y_test, y_pred)\n",
    "    print(f\"{name} mode with accuracy: {score}\")"
   ]
  },
  {
   "cell_type": "markdown",
   "id": "ca413613",
   "metadata": {},
   "source": [
    "### Model Fitting and Prediction with Random Forest Classifier and Evaluating Accuracy"
   ]
  },
  {
   "cell_type": "code",
   "execution_count": 34,
   "id": "531fde51",
   "metadata": {
    "execution": {
     "iopub.execute_input": "2024-09-12T11:36:59.087896Z",
     "iopub.status.busy": "2024-09-12T11:36:59.087617Z",
     "iopub.status.idle": "2024-09-12T11:36:59.437115Z",
     "shell.execute_reply": "2024-09-12T11:36:59.436511Z"
    },
    "papermill": {
     "duration": 0.361429,
     "end_time": "2024-09-12T11:36:59.438718",
     "exception": false,
     "start_time": "2024-09-12T11:36:59.077289",
     "status": "completed"
    },
    "tags": []
   },
   "outputs": [
    {
     "data": {
      "text/plain": [
       "0.9931818181818182"
      ]
     },
     "execution_count": 34,
     "metadata": {},
     "output_type": "execute_result"
    }
   ],
   "source": [
    "randclf = RandomForestClassifier()\n",
    "randclf.fit(X_train, y_train)\n",
    "y_pred = randclf.predict(X_test)\n",
    "accuracy_score(y_test, y_pred)"
   ]
  },
  {
   "cell_type": "markdown",
   "id": "1e250fd3",
   "metadata": {},
   "source": [
    "### Display Column Names"
   ]
  },
  {
   "cell_type": "code",
   "execution_count": 35,
   "id": "71ba5a36",
   "metadata": {
    "execution": {
     "iopub.execute_input": "2024-09-12T11:36:59.459442Z",
     "iopub.status.busy": "2024-09-12T11:36:59.459067Z",
     "iopub.status.idle": "2024-09-12T11:36:59.463735Z",
     "shell.execute_reply": "2024-09-12T11:36:59.463170Z"
    },
    "papermill": {
     "duration": 0.016956,
     "end_time": "2024-09-12T11:36:59.465299",
     "exception": false,
     "start_time": "2024-09-12T11:36:59.448343",
     "status": "completed"
    },
    "tags": []
   },
   "outputs": [
    {
     "data": {
      "text/plain": [
       "Index(['N', 'P', 'K', 'temperature', 'humidity', 'ph', 'rainfall', 'label'], dtype='object')"
      ]
     },
     "execution_count": 35,
     "metadata": {},
     "output_type": "execute_result"
    }
   ],
   "source": [
    "crop.columns"
   ]
  },
  {
   "cell_type": "markdown",
   "id": "c821c82a",
   "metadata": {},
   "source": [
    "## Define a Crop Recommendation Function"
   ]
  },
  {
   "cell_type": "code",
   "execution_count": 36,
   "id": "4adfea6a",
   "metadata": {},
   "outputs": [],
   "source": [
    "def recommendation(N, P, K, temperature, humidity, ph, rainfall):\n",
    "    features = np.array([[N, P, K, temperature, humidity, ph, rainfall]])\n",
    "    mx_features = mx.transform(features)  # Assuming mx is a scaler/transformer\n",
    "    prediction = randclf.predict(mx_features).reshape(1, -1)\n",
    "    return prediction[0][0]  # Extract scalar value from the ndarray"
   ]
  },
  {
   "cell_type": "markdown",
   "id": "c14d9138",
   "metadata": {},
   "source": [
    "### 1. Smart Crop Recommendation: Identifying the Best Crop for Optimal Yield"
   ]
  },
  {
   "cell_type": "code",
   "execution_count": 37,
   "id": "58773650",
   "metadata": {},
   "outputs": [
    {
     "name": "stdout",
     "output_type": "stream",
     "text": [
      "Mango is the best crop to be cultivated.\n"
     ]
    }
   ],
   "source": [
    "# New inputs\n",
    "N = 40\n",
    "P = 30\n",
    "K = 50  # Changed from lowercase 'k' to uppercase 'K' for consistency\n",
    "temperature = 40.0\n",
    "humidity = 20\n",
    "ph = 100\n",
    "rainfall = 100\n",
    "\n",
    "predict = recommendation(N, P, K, temperature, humidity, ph, rainfall)\n",
    "\n",
    "crop_dict = {1: \"Rice\", 2: \"Maize\", 3: \"Jute\", 4: \"Cotton\", 5: \"Coconut\", 6: \"Papaya\", 7: \"Orange\",\n",
    "             8: \"Apple\", 9: \"Muskmelon\", 10: \"Watermelon\", 11: \"Grapes\", 12: \"Mango\", 13: \"Banana\",\n",
    "             14: \"Pomegranate\", 15: \"Lentil\", 16: \"Blackgram\", 17: \"Mungbean\", 18: \"Mothbeans\",\n",
    "             19: \"Pigeonpeas\", 20: \"Kidneybeans\", 21: \"Chickpea\", 22: \"Coffee\"}\n",
    "\n",
    "# Check if the prediction is a valid crop index\n",
    "if predict in crop_dict:\n",
    "    crop = crop_dict[predict]\n",
    "    print(f\"{crop} is the best crop to be cultivated.\")\n",
    "else:\n",
    "    print(\"Sorry, we are not able to recommend a proper crop for this environment.\")\n"
   ]
  },
  {
   "cell_type": "markdown",
   "id": "36dcbe97",
   "metadata": {},
   "source": [
    "### 2. Smart Crop Recommendation: Identifying the Best Crop for Optimal Yield"
   ]
  },
  {
   "cell_type": "code",
   "execution_count": 38,
   "id": "82731002",
   "metadata": {},
   "outputs": [
    {
     "name": "stdout",
     "output_type": "stream",
     "text": [
      "Grapes is a best crop to be cultivated \n"
     ]
    }
   ],
   "source": [
    "# new inputs 2\n",
    "N = 100\n",
    "P = 90\n",
    "k = 100\n",
    "temperature = 50.0\n",
    "humidity = 90.0\n",
    "ph = 100\n",
    "rainfall = 202.0\n",
    "\n",
    "predict = recommendation(N,P,k,temperature,humidity,ph,rainfall)\n",
    "\n",
    "crop_dict = {1: \"Rice\", 2: \"Maize\", 3: \"Jute\", 4: \"Cotton\", 5: \"Coconut\", 6: \"Papaya\", 7: \"Orange\",\n",
    "                 8: \"Apple\", 9: \"Muskmelon\", 10: \"Watermelon\", 11: \"Grapes\", 12: \"Mango\", 13: \"Banana\",\n",
    "                 14: \"Pomegranate\", 15: \"Lentil\", 16: \"Blackgram\", 17: \"Mungbean\", 18: \"Mothbeans\",\n",
    "                 19: \"Pigeonpeas\", 20: \"Kidneybeans\", 21: \"Chickpea\", 22: \"Coffee\"}\n",
    "\n",
    "if predict in crop_dict:\n",
    "    crop = crop_dict[predict]\n",
    "    print(\"{} is a best crop to be cultivated \".format(crop))\n",
    "else:\n",
    "    print(\"Sorry are not able to recommend a proper crop for this environment\")"
   ]
  },
  {
   "cell_type": "markdown",
   "id": "4670ee7d",
   "metadata": {},
   "source": [
    "### 3. Smart Crop Recommendation: Identifying the Best Crop for Optimal Yield"
   ]
  },
  {
   "cell_type": "code",
   "execution_count": 39,
   "id": "82207c8e",
   "metadata": {},
   "outputs": [
    {
     "name": "stdout",
     "output_type": "stream",
     "text": [
      "Mango is a best crop to be cultivated \n"
     ]
    }
   ],
   "source": [
    "# new inputs 3\n",
    "N = 10\n",
    "P = 60\n",
    "k = 70\n",
    "temperature = 30.0\n",
    "humidity = 50.0\n",
    "ph = 2.5\n",
    "rainfall = 500.0\n",
    "\n",
    "predict = recommendation(N,P,k,temperature,humidity,ph,rainfall)\n",
    "\n",
    "crop_dict = {1: \"Rice\", 2: \"Maize\", 3: \"Jute\", 4: \"Cotton\", 5: \"Coconut\", 6: \"Papaya\", 7: \"Orange\",\n",
    "                 8: \"Apple\", 9: \"Muskmelon\", 10: \"Watermelon\", 11: \"Grapes\", 12: \"Mango\", 13: \"Banana\",\n",
    "                 14: \"Pomegranate\", 15: \"Lentil\", 16: \"Blackgram\", 17: \"Mungbean\", 18: \"Mothbeans\",\n",
    "                 19: \"Pigeonpeas\", 20: \"Kidneybeans\", 21: \"Chickpea\", 22: \"Coffee\"}\n",
    "\n",
    "if predict in crop_dict:\n",
    "    crop = crop_dict[predict]\n",
    "    print(\"{} is a best crop to be cultivated \".format(crop))\n",
    "else:\n",
    "    print(\"Sorry are not able to recommend a proper crop for this environment\")"
   ]
  },
  {
   "cell_type": "markdown",
   "id": "095fefc6",
   "metadata": {},
   "source": [
    "### 4. Smart Crop Recommendation: Identifying the Best Crop for Optimal Yield"
   ]
  },
  {
   "cell_type": "code",
   "execution_count": 40,
   "id": "28aa4124",
   "metadata": {},
   "outputs": [
    {
     "name": "stdout",
     "output_type": "stream",
     "text": [
      "Coffee is a best crop to be cultivated \n"
     ]
    }
   ],
   "source": [
    "# new inputs 4\n",
    "N = 100\n",
    "P = 20\n",
    "k = 20\n",
    "temperature = 30.0\n",
    "humidity = 45.0\n",
    "ph = 3.5\n",
    "rainfall = 120.0\n",
    "\n",
    "predict = recommendation(N,P,k,temperature,humidity,ph,rainfall)\n",
    "\n",
    "crop_dict = {1: \"Rice\", 2: \"Maize\", 3: \"Jute\", 4: \"Cotton\", 5: \"Coconut\", 6: \"Papaya\", 7: \"Orange\",\n",
    "                 8: \"Apple\", 9: \"Muskmelon\", 10: \"Watermelon\", 11: \"Grapes\", 12: \"Mango\", 13: \"Banana\",\n",
    "                 14: \"Pomegranate\", 15: \"Lentil\", 16: \"Blackgram\", 17: \"Mungbean\", 18: \"Mothbeans\",\n",
    "                 19: \"Pigeonpeas\", 20: \"Kidneybeans\", 21: \"Chickpea\", 22: \"Coffee\"}\n",
    "\n",
    "if predict in crop_dict:\n",
    "    crop = crop_dict[predict]\n",
    "    print(\"{} is a best crop to be cultivated \".format(crop))\n",
    "else:\n",
    "    print(\"Sorry are not able to recommend a proper crop for this environment\")"
   ]
  },
  {
   "cell_type": "markdown",
   "id": "3697fa3e",
   "metadata": {},
   "source": [
    "### 5. Smart Crop Recommendation: Identifying the Best Crop for Optimal Yield"
   ]
  },
  {
   "cell_type": "code",
   "execution_count": 41,
   "id": "6efc33b8",
   "metadata": {},
   "outputs": [
    {
     "name": "stdout",
     "output_type": "stream",
     "text": [
      "Cotton is a best crop to be cultivated \n"
     ]
    }
   ],
   "source": [
    "# new inputs 5\n",
    "N = 20\n",
    "P = 20\n",
    "k = 20\n",
    "temperature = 20\n",
    "humidity = 20\n",
    "ph = 3.5\n",
    "rainfall = 120.0\n",
    "\n",
    "predict = recommendation(N,P,k,temperature,humidity,ph,rainfall)\n",
    "\n",
    "crop_dict = {1: \"Rice\", 2: \"Maize\", 3: \"Jute\", 4: \"Cotton\", 5: \"Coconut\", 6: \"Papaya\", 7: \"Orange\",\n",
    "                 8: \"Apple\", 9: \"Muskmelon\", 10: \"Watermelon\", 11: \"Grapes\", 12: \"Mango\", 13: \"Banana\",\n",
    "                 14: \"Pomegranate\", 15: \"Lentil\", 16: \"Blackgram\", 17: \"Mungbean\", 18: \"Mothbeans\",\n",
    "                 19: \"Pigeonpeas\", 20: \"Kidneybeans\", 21: \"Chickpea\", 22: \"Coffee\"}\n",
    "\n",
    "if predict in crop_dict:\n",
    "    crop = crop_dict[predict]\n",
    "    print(\"{} is a best crop to be cultivated \".format(crop))\n",
    "else:\n",
    "    print(\"Sorry are not able to recommend a proper crop for this environment\")"
   ]
  },
  {
   "cell_type": "markdown",
   "id": "8d0dbdac",
   "metadata": {},
   "source": [
    "### Saving the Best Model Using Pickle"
   ]
  },
  {
   "cell_type": "code",
   "execution_count": 42,
   "id": "0131e060",
   "metadata": {
    "execution": {
     "iopub.execute_input": "2024-09-12T11:36:59.573192Z",
     "iopub.status.busy": "2024-09-12T11:36:59.572951Z",
     "iopub.status.idle": "2024-09-12T11:36:59.587885Z",
     "shell.execute_reply": "2024-09-12T11:36:59.587310Z"
    },
    "papermill": {
     "duration": 0.027242,
     "end_time": "2024-09-12T11:36:59.589648",
     "exception": false,
     "start_time": "2024-09-12T11:36:59.562406",
     "status": "completed"
    },
    "tags": []
   },
   "outputs": [],
   "source": [
    "import pickle\n",
    "pickle.dump(randclf, open('model.pkl', 'wb'))"
   ]
  },
  {
   "cell_type": "code",
   "execution_count": null,
   "id": "8a73a1bd",
   "metadata": {},
   "outputs": [],
   "source": []
  }
 ],
 "metadata": {
  "kaggle": {
   "accelerator": "tpu1vmV38",
   "dataSources": [
    {
     "datasetId": 1046158,
     "sourceId": 1760012,
     "sourceType": "datasetVersion"
    }
   ],
   "dockerImageVersionId": 30763,
   "isGpuEnabled": false,
   "isInternetEnabled": true,
   "language": "python",
   "sourceType": "notebook"
  },
  "kernelspec": {
   "display_name": "Python 3 (ipykernel)",
   "language": "python",
   "name": "python3"
  },
  "language_info": {
   "codemirror_mode": {
    "name": "ipython",
    "version": 3
   },
   "file_extension": ".py",
   "mimetype": "text/x-python",
   "name": "python",
   "nbconvert_exporter": "python",
   "pygments_lexer": "ipython3",
   "version": "3.10.9"
  },
  "papermill": {
   "default_parameters": {},
   "duration": 18.727073,
   "end_time": "2024-09-12T11:37:00.016463",
   "environment_variables": {},
   "exception": null,
   "input_path": "__notebook__.ipynb",
   "output_path": "__notebook__.ipynb",
   "parameters": {},
   "start_time": "2024-09-12T11:36:41.289390",
   "version": "2.6.0"
  }
 },
 "nbformat": 4,
 "nbformat_minor": 5
}
